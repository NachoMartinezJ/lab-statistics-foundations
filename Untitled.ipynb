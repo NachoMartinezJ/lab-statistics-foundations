{
 "cells": [
  {
   "cell_type": "markdown",
   "metadata": {},
   "source": [
    "# Challenge 1"
   ]
  },
  {
   "cell_type": "markdown",
   "metadata": {},
   "source": [
    "#### Omega is our whole sample, in this case possible throws from 2 dice.\n",
    "Ω = {(1, 2), (3, 4), (2, 6), ...}\n",
    "\n",
    "#### Structure is a portion of the sample we chose to analyse.\n",
    "str = (1, 4)\n",
    "\n",
    "#### We want to display the numbers of the throw.\n",
    "a) X((1, 4) = (1, 4)\n",
    "\n",
    "#### We want to compute the sum of the numbers throwed.\n",
    "b) X((1, 4)) = 5\n",
    "\n",
    "#### We want to output the maximum value between both dice.\n",
    "c) X((1, 4)) = 4\n",
    "\n",
    "str = {(1, 4), (4, 5), (6, 6)}\n",
    "#### We'll only have output if the numbers of the throw are greater than 5.\n",
    "a') X((4, 5)) = None\n",
    "\n",
    "   X((6, 6)) = (6, 6)\n",
    "    \n",
    "#### We'll only have output if the sum is even.\n",
    "b) X((1, 4)) = None\n",
    "\n",
    "   X((6, 6)) = 12\n",
    "\n",
    "##### We'll only have output if both numbers are the same.\n",
    "c) X((1, 4)) = None \n",
    "\n",
    "   X((6, 6)) = 6\n"
   ]
  },
  {
   "cell_type": "markdown",
   "metadata": {},
   "source": [
    "# Challenge 2"
   ]
  },
  {
   "cell_type": "markdown",
   "metadata": {},
   "source": [
    "#### Omega is the sample of possible tuple of cards dealt to a player.\n",
    "Ω = {(Ad, 5s), (Kh, Qh), (Qs, 7h), (9d, 8d), (6c, 4d), ...} \n",
    "\n",
    "#### Structure is the smallest sample be chose to analyse.\n",
    "str = {(Ad, 5s), (6c, 4d)...}\n",
    "\n",
    "#### Output the number of figures the player has in his hand.\n",
    "a) X((Ad, 5s)) = 1\n",
    "\n",
    "   X((6c, 4d)) = 0\n",
    "\n",
    "#### Output the sum of the cards in the player hand.\n",
    "b) X((Ad, 5s)) = 20\n",
    "\n",
    "   X((6c, 4d)) = 10\n",
    "\n",
    "#### Output the number of spades and hearts in the players hand.\n",
    "c) X((Ad, 5s)) = 1\n",
    "\n",
    "   X((6c, 4d)) = 0\n",
    "   \n",
    "str = {(Kh, Qh), (Qs, 7h)}\n",
    "\n",
    "#### Output when the number of figures is 2.\n",
    "a') X((Kh, Qh)) = (Kh, Qh)\n",
    "\n",
    "   X((Qs, 7h)) = None\n",
    "\n",
    "#### Output when the sum of player hand is 17.\n",
    "b') X((Kh, Qh)) = None\n",
    "\n",
    "   X((Qs, 7h)) = 17\n",
    "\n",
    "#### Output the number of spades and hearts, when the numbers is lower than 8.\n",
    "c') X((Kh, Qh)) = None\n",
    "\n",
    "   X((Qs, 7h)) = 1\n"
   ]
  },
  {
   "cell_type": "markdown",
   "metadata": {},
   "source": [
    "# Challenge 3"
   ]
  },
  {
   "cell_type": "markdown",
   "metadata": {},
   "source": [
    "Ω = {({1}, {4}), ({2}, {5}), ({1}, {2}), ({3}, {3}) ....}\n",
    "\n",
    "str = {({1}, {4}), ({5}, {1}), ({1}, {2})}\n",
    "\n",
    "#### Output the score for player A.\n",
    "a) X(({1}, {4})) = 1\n",
    "\n",
    "   X(({5}, {1})) = 5\n",
    "\n",
    "#### Output greatest score.    \n",
    "b) X(({1}, {4})) = 4\n",
    "\n",
    "   X(({1}, {2})) = 2\n",
    "\n",
    "#### Player with greatest score wins 1 coin. Output coins won by player A.\n",
    "c) X(({1}, {4})) = -1\n",
    "\n",
    "#### Player with greatest score wins the difference in coins. Output coins won by player A.\n",
    "d) X(({1}, {4})) = -3\n",
    "\n",
    "   X(({5}, {1})) = 4\n",
    "   \n",
    "   X(({3}, {3})) = 0\n",
    "\n"
   ]
  },
  {
   "cell_type": "markdown",
   "metadata": {},
   "source": [
    "# Challenge 4"
   ]
  },
  {
   "cell_type": "code",
   "execution_count": null,
   "metadata": {},
   "outputs": [],
   "source": [
    "Ω = {(0, 1, 2, 3), (1, 3, 0, 2), (3, 0, 2, 1)...}\n",
    "0 = 'Black'\n",
    "1 = 'Blue'\n",
    "2 = 'Green'\n",
    "3 = 'Red'\n",
    "\n",
    "str = {(0, 1, 2, 3), (1, 3, 0, 2), (3, 0, 2, 1)}\n",
    "\n",
    "#### If ball is red they cannot take another ball.\n",
    "X()"
   ]
  }
 ],
 "metadata": {
  "kernelspec": {
   "display_name": "Python 3",
   "language": "python",
   "name": "python3"
  },
  "language_info": {
   "codemirror_mode": {
    "name": "ipython",
    "version": 3
   },
   "file_extension": ".py",
   "mimetype": "text/x-python",
   "name": "python",
   "nbconvert_exporter": "python",
   "pygments_lexer": "ipython3",
   "version": "3.7.2"
  }
 },
 "nbformat": 4,
 "nbformat_minor": 2
}
